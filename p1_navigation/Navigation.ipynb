{
 "cells": [
  {
   "cell_type": "markdown",
   "metadata": {},
   "source": [
    "# Navigation\n",
    "\n",
    "---\n",
    "\n",
    "In this notebook, you will learn how to use the Unity ML-Agents environment for the first project of the [Deep Reinforcement Learning Nanodegree](https://www.udacity.com/course/deep-reinforcement-learning-nanodegree--nd893).\n",
    "\n",
    "### 1. Start the Environment\n",
    "\n",
    "We begin by importing some necessary packages.  If the code cell below returns an error, please revisit the project instructions to double-check that you have installed [Unity ML-Agents](https://github.com/Unity-Technologies/ml-agents/blob/master/docs/Installation.md) and [NumPy](http://www.numpy.org/)."
   ]
  },
  {
   "cell_type": "code",
   "execution_count": 1,
   "metadata": {},
   "outputs": [],
   "source": [
    "# Only necessary when executing this notebook on the Udacity cloud\n",
    "#!pip -q install ../python"
   ]
  },
  {
   "cell_type": "code",
   "execution_count": 2,
   "metadata": {},
   "outputs": [],
   "source": [
    "from unityagents import UnityEnvironment\n",
    "import numpy as np\n",
    "import os\n",
    "import time"
   ]
  },
  {
   "cell_type": "markdown",
   "metadata": {},
   "source": [
    "Next, we will start the environment!  **_Before running the code cell below_**, change the `file_name` parameter to match the location of the Unity environment that you downloaded.\n",
    "\n",
    "- **Mac**: `\"path/to/Banana.app\"`\n",
    "- **Windows** (x86): `\"path/to/Banana_Windows_x86/Banana.exe\"`\n",
    "- **Windows** (x86_64): `\"path/to/Banana_Windows_x86_64/Banana.exe\"`\n",
    "- **Linux** (x86): `\"path/to/Banana_Linux/Banana.x86\"`\n",
    "- **Linux** (x86_64): `\"path/to/Banana_Linux/Banana.x86_64\"`\n",
    "- **Linux** (x86, headless): `\"path/to/Banana_Linux_NoVis/Banana.x86\"`\n",
    "- **Linux** (x86_64, headless): `\"path/to/Banana_Linux_NoVis/Banana.x86_64\"`\n",
    "\n",
    "For instance, if you are using a Mac, then you downloaded `Banana.app`.  If this file is in the same folder as the notebook, then the line below should appear as follows:\n",
    "```\n",
    "env = UnityEnvironment(file_name=\"Banana.app\")\n",
    "```"
   ]
  },
  {
   "cell_type": "code",
   "execution_count": 3,
   "metadata": {},
   "outputs": [
    {
     "name": "stderr",
     "output_type": "stream",
     "text": [
      "INFO:unityagents:\n",
      "'Academy' started successfully!\n",
      "Unity Academy name: Academy\n",
      "        Number of Brains: 1\n",
      "        Number of External Brains : 1\n",
      "        Lesson number : 0\n",
      "        Reset Parameters :\n",
      "\t\t\n",
      "Unity brain name: BananaBrain\n",
      "        Number of Visual Observations (per agent): 0\n",
      "        Vector Observation space type: continuous\n",
      "        Vector Observation space size (per agent): 37\n",
      "        Number of stacked Vector Observation: 1\n",
      "        Vector Action space type: discrete\n",
      "        Vector Action space size (per agent): 4\n",
      "        Vector Action descriptions: , , , \n"
     ]
    }
   ],
   "source": [
    "# Standalone machine\n",
    "#env = UnityEnvironment( os.path.join( os.environ['HOME'], 'Python/rl/udadrl/data/Banana_Linux/Banana.x86_64' ) ) # Visible (Best 4 testing)\n",
    "env = UnityEnvironment( os.path.join( os.environ['HOME'], 'Python/rl/udadrl/data/Banana_Linux_NoVis/Banana.x86_64' ) ) # Invisible (Best 4 training)\n",
    "\n",
    "# Udacity cloud\n",
    "#env = UnityEnvironment( file_name=\"/data/Banana_Linux_NoVis/Banana.x86_64\" )"
   ]
  },
  {
   "cell_type": "markdown",
   "metadata": {},
   "source": [
    "Environments contain **_brains_** which are responsible for deciding the actions of their associated agents. Here we check for the first brain available, and set it as the default brain we will be controlling from Python."
   ]
  },
  {
   "cell_type": "code",
   "execution_count": 4,
   "metadata": {},
   "outputs": [],
   "source": [
    "# get the default brain\n",
    "brain_name = env.brain_names[0]\n",
    "brain = env.brains[brain_name]"
   ]
  },
  {
   "cell_type": "markdown",
   "metadata": {},
   "source": [
    "### 2. Examine the State and Action Spaces\n",
    "\n",
    "The simulation contains a single agent that navigates a large environment.  At each time step, it has four actions at its disposal:\n",
    "- `0` - walk forward \n",
    "- `1` - walk backward\n",
    "- `2` - turn left\n",
    "- `3` - turn right\n",
    "\n",
    "The state space has `37` dimensions and contains the agent's velocity, along with ray-based perception of objects around agent's forward direction.  A reward of `+1` is provided for collecting a yellow banana, and a reward of `-1` is provided for collecting a blue banana. \n",
    "\n",
    "Run the code cell below to print some information about the environment."
   ]
  },
  {
   "cell_type": "code",
   "execution_count": 5,
   "metadata": {},
   "outputs": [
    {
     "name": "stdout",
     "output_type": "stream",
     "text": [
      "Number of agents: 1\n",
      "Number of actions: 4\n",
      "States look like: [1.         0.         0.         0.         0.84408134 0.\n",
      " 0.         1.         0.         0.0748472  0.         1.\n",
      " 0.         0.         0.25755    1.         0.         0.\n",
      " 0.         0.74177343 0.         1.         0.         0.\n",
      " 0.25854847 0.         0.         1.         0.         0.09355672\n",
      " 0.         1.         0.         0.         0.31969345 0.\n",
      " 0.        ]\n",
      "States have length: 37\n"
     ]
    }
   ],
   "source": [
    "# reset the environment\n",
    "env_info = env.reset(train_mode=True)[brain_name]\n",
    "\n",
    "# number of agents in the environment\n",
    "print('Number of agents:', len(env_info.agents))\n",
    "\n",
    "# number of actions\n",
    "action_size = brain.vector_action_space_size\n",
    "print('Number of actions:', action_size)\n",
    "\n",
    "# examine the state space \n",
    "state = env_info.vector_observations[0]\n",
    "print('States look like:', state)\n",
    "state_size = len(state)\n",
    "print('States have length:', state_size)"
   ]
  },
  {
   "cell_type": "markdown",
   "metadata": {},
   "source": [
    "### 3. Take Random Actions in the Environment\n",
    "\n",
    "In the next code cell, you will learn how to use the Python API to control the agent and receive feedback from the environment.\n",
    "\n",
    "Once this cell is executed, you will watch the agent's performance, if it selects an action (uniformly) at random with each time step.  A window should pop up that allows you to observe the agent, as it moves through the environment.  \n",
    "\n",
    "Of course, as part of the project, you'll have to change the code so that the agent is able to use its experience to gradually choose better actions when interacting with the environment!"
   ]
  },
  {
   "cell_type": "code",
   "execution_count": null,
   "metadata": {},
   "outputs": [],
   "source": [
    "env_info = env.reset(train_mode=False)[brain_name] # reset the environment\n",
    "state = env_info.vector_observations[0]            # get the current state\n",
    "score = 0                                          # initialize the score\n",
    "while True:\n",
    "    action = np.random.randint(action_size)        # select an action\n",
    "    env_info = env.step(action)[brain_name]        # send the action to the environment\n",
    "    next_state = env_info.vector_observations[0]   # get the next state\n",
    "    reward = env_info.rewards[0]                   # get the reward\n",
    "    done = env_info.local_done[0]                  # see if episode has finished\n",
    "    score += reward                                # update the score\n",
    "    state = next_state                             # roll over the state to next time step\n",
    "    if done:                                       # exit loop if episode finished\n",
    "        break\n",
    "    \n",
    "print(\"Score: {}\".format(score))"
   ]
  },
  {
   "cell_type": "markdown",
   "metadata": {},
   "source": [
    "When finished, you can close the environment."
   ]
  },
  {
   "cell_type": "code",
   "execution_count": null,
   "metadata": {},
   "outputs": [],
   "source": [
    "env.close()"
   ]
  },
  {
   "cell_type": "markdown",
   "metadata": {},
   "source": [
    "### 4. It's Your Turn!\n",
    "\n",
    "Now it's your turn to train your own agent to solve the environment!  When training the environment, set `train_mode=True`, so that the line for resetting the environment looks like the following:\n",
    "```python\n",
    "env_info = env.reset(train_mode=True)[brain_name]\n",
    "```"
   ]
  },
  {
   "cell_type": "code",
   "execution_count": 6,
   "metadata": {},
   "outputs": [],
   "source": [
    "from dql_agent import Agent\n",
    "from math import tanh\n",
    "\n",
    "\n",
    "#agent = Agent(state_size, action_size, time.time())\n",
    "agent = Agent( state_size, action_size, seed = int( time.time() ) )\n",
    "\n",
    "# Helper functions\n",
    "def get_time_string():\n",
    "    return time.strftime('%Y%m%d%H%M%S')\n",
    "\n",
    "def get_epsilon_i(num_episodes, epsilon_min = 0.01, evaluate = True): # evaluate is True by default coz tanh doesn't work well with Sarsa\n",
    "        \"\"\" Getting a nice numpy array with epsilon values for every episode according to\n",
    "        epsilon_i = epsilon_min+(1.0-epsilon_min)*(1-tanh(10*(i/num_episodes))) \"\"\"\n",
    "        if evaluate:\n",
    "            epsilon = [1.0 / (i+1) for i in range(num_episodes+10)]\n",
    "        else:\n",
    "            epsilon = [epsilon_min+(1.0-epsilon_min)*(1-tanh(10*(i/num_episodes))) for i in range(num_episodes+10)]\n",
    "        return epsilon\n",
    "    "
   ]
  },
  {
   "cell_type": "code",
   "execution_count": 7,
   "metadata": {},
   "outputs": [
    {
     "name": "stdout",
     "output_type": "stream",
     "text": [
      "Epoch:  100; Score:   1.0; Epsilon: 0.9755; Mean (100): +0.01 *\n",
      "Epoch:  200; Score:   0.0; Epsilon: 0.9508; Mean (100): +0.11 *\n",
      "Epoch:  300; Score:   0.0; Epsilon: 0.9261; Mean (100): +0.30 *\n",
      "Epoch:  400; Score:   4.0; Epsilon: 0.9016; Mean (100): +0.35 *\n",
      "Epoch:  500; Score:   1.0; Epsilon: 0.8771; Mean (100): +0.40 *\n",
      "Epoch:  600; Score:   2.0; Epsilon: 0.8528; Mean (100): +0.91 *\n",
      "Epoch:  700; Score:   1.0; Epsilon: 0.8287; Mean (100): +1.32 *\n",
      "Epoch:  800; Score:   1.0; Epsilon: 0.8048; Mean (100): +1.64 *\n",
      "Epoch:  900; Score:   3.0; Epsilon: 0.7812; Mean (100): +1.84 *\n",
      "Epoch: 1000; Score:   2.0; Epsilon: 0.7578; Mean (100): +1.56 *\n",
      "Epoch: 1100; Score:   4.0; Epsilon: 0.7346; Mean (100): +2.20 *\n",
      "Epoch: 1200; Score:   4.0; Epsilon: 0.7118; Mean (100): +2.11 *\n",
      "Epoch: 1300; Score:   4.0; Epsilon: 0.6893; Mean (100): +3.09 *\n",
      "Epoch: 1400; Score:   0.0; Epsilon: 0.6672; Mean (100): +2.97 *\n",
      "Epoch: 1500; Score:   3.0; Epsilon: 0.6454; Mean (100): +3.62 *\n",
      "Epoch: 1600; Score:   4.0; Epsilon: 0.6241; Mean (100): +3.94 *\n",
      "Epoch: 1700; Score:   0.0; Epsilon: 0.6031; Mean (100): +4.12 *\n",
      "Epoch: 1800; Score:   2.0; Epsilon: 0.5825; Mean (100): +4.50 *\n",
      "Epoch: 1900; Score:   7.0; Epsilon: 0.5624; Mean (100): +5.01 *\n",
      "Epoch: 2000; Score:   4.0; Epsilon: 0.5427; Mean (100): +4.16 *\n",
      "Epoch: 2100; Score:   7.0; Epsilon: 0.5235; Mean (100): +5.14 *\n",
      "Epoch: 2200; Score:   7.0; Epsilon: 0.5047; Mean (100): +4.88 *\n",
      "Epoch: 2300; Score:   0.0; Epsilon: 0.4863; Mean (100): +5.24 *\n",
      "Epoch: 2400; Score:   8.0; Epsilon: 0.4685; Mean (100): +6.31 *\n",
      "Epoch: 2500; Score:   9.0; Epsilon: 0.4511; Mean (100): +6.53 *\n",
      "Epoch: 2600; Score:   6.0; Epsilon: 0.4342; Mean (100): +6.77 *\n",
      "Epoch: 2700; Score:   5.0; Epsilon: 0.4178; Mean (100): +6.92 *\n",
      "Epoch: 2800; Score:   9.0; Epsilon: 0.4018; Mean (100): +6.26 *\n",
      "Epoch: 2900; Score:   3.0; Epsilon: 0.3864; Mean (100): +6.95 *\n",
      "Epoch: 3000; Score:  13.0; Epsilon: 0.3714; Mean (100): +8.18 *\n",
      "Epoch: 3100; Score:  10.0; Epsilon: 0.3568; Mean (100): +8.07 *\n",
      "Epoch: 3200; Score:   9.0; Epsilon: 0.3427; Mean (100): +8.35 *\n",
      "Epoch: 3300; Score:  14.0; Epsilon: 0.3291; Mean (100): +8.86 *\n",
      "Epoch: 3400; Score:   8.0; Epsilon: 0.3160; Mean (100): +8.73 *\n",
      "Epoch: 3500; Score:  14.0; Epsilon: 0.3033; Mean (100): +8.67 *\n",
      "Epoch: 3600; Score:  14.0; Epsilon: 0.2910; Mean (100): +9.12 *\n",
      "Epoch: 3700; Score:   9.0; Epsilon: 0.2791; Mean (100): +8.91 *\n",
      "Epoch: 3800; Score:   9.0; Epsilon: 0.2677; Mean (100): +8.83 *\n",
      "Epoch: 3900; Score:   0.0; Epsilon: 0.2567; Mean (100): +9.37 *\n",
      "Epoch: 4000; Score:   9.0; Epsilon: 0.2461; Mean (100): +9.11 *\n",
      "Epoch: 4100; Score:  14.0; Epsilon: 0.2359; Mean (100): +10.19 *\n",
      "Epoch: 4200; Score:  11.0; Epsilon: 0.2261; Mean (100): +10.16 *\n",
      "Epoch: 4300; Score:  16.0; Epsilon: 0.2167; Mean (100): +11.09 *\n",
      "Epoch: 4400; Score:  12.0; Epsilon: 0.2076; Mean (100): +11.36 *\n",
      "Epoch: 4500; Score:  12.0; Epsilon: 0.1989; Mean (100): +10.87 *\n",
      "Epoch: 4600; Score:  17.0; Epsilon: 0.1905; Mean (100): +10.81 *\n",
      "Epoch: 4700; Score:  14.0; Epsilon: 0.1825; Mean (100): +11.20 *\n",
      "Epoch: 4800; Score:  13.0; Epsilon: 0.1748; Mean (100): +9.94 *\n",
      "Epoch: 4900; Score:  14.0; Epsilon: 0.1674; Mean (100): +10.58 *\n",
      "Epoch: 5000; Score:  12.0; Epsilon: 0.1603; Mean (100): +11.18 *\n",
      "Epoch: 5100; Score:  13.0; Epsilon: 0.1535; Mean (100): +11.96 *\n",
      "Epoch: 5200; Score:  12.0; Epsilon: 0.1470; Mean (100): +11.81 *\n",
      "Epoch: 5300; Score:  11.0; Epsilon: 0.1407; Mean (100): +12.37 *\n",
      "Epoch: 5400; Score:  10.0; Epsilon: 0.1347; Mean (100): +12.95 *\n",
      "Epoch: 5500; Score:  10.0; Epsilon: 0.1290; Mean (100): +12.68 *\n",
      "Epoch: 5600; Score:  13.0; Epsilon: 0.1236; Mean (100): +12.38 *\n",
      "Epoch: 5700; Score:  17.0; Epsilon: 0.1183; Mean (100): +11.53 *\n",
      "Epoch: 5800; Score:  12.0; Epsilon: 0.1133; Mean (100): +12.66 *\n",
      "Epoch: 5900; Score:  10.0; Epsilon: 0.1085; Mean (100): +13.79 *\n",
      "Epoch: 6000; Score:   5.0; Epsilon: 0.1039; Mean (100): +12.12 *\n",
      "Epoch: 6100; Score:  11.0; Epsilon: 0.0996; Mean (100): +13.22 *\n",
      "Epoch: 6200; Score:  10.0; Epsilon: 0.0954; Mean (100): +13.51 *\n",
      "Epoch: 6300; Score:  17.0; Epsilon: 0.0914; Mean (100): +12.70 *\n",
      "Epoch: 6400; Score:  12.0; Epsilon: 0.0876; Mean (100): +12.80 *\n",
      "Epoch: 6500; Score:   9.0; Epsilon: 0.0839; Mean (100): +12.81 *\n",
      "Epoch: 6600; Score:  13.0; Epsilon: 0.0805; Mean (100): +13.23 *\n",
      "Epoch: 6700; Score:   7.0; Epsilon: 0.0771; Mean (100): +13.44 *\n",
      "Epoch: 6800; Score:   9.0; Epsilon: 0.0740; Mean (100): +13.45 *\n",
      "Epoch: 6900; Score:  21.0; Epsilon: 0.0710; Mean (100): +13.25 *\n",
      "Epoch: 7000; Score:  13.0; Epsilon: 0.0681; Mean (100): +13.65 *\n",
      "Epoch: 7100; Score:  16.0; Epsilon: 0.0653; Mean (100): +14.47 *\n",
      "Epoch: 7200; Score:  12.0; Epsilon: 0.0627; Mean (100): +14.43 *\n",
      "Epoch: 7300; Score:  13.0; Epsilon: 0.0602; Mean (100): +13.89 *\n",
      "Epoch: 7400; Score:   9.0; Epsilon: 0.0578; Mean (100): +12.98 *\n",
      "Epoch: 7500; Score:   6.0; Epsilon: 0.0555; Mean (100): +13.28 *\n",
      "Epoch: 7600; Score:  15.0; Epsilon: 0.0533; Mean (100): +14.47 *\n",
      "Epoch: 7700; Score:  13.0; Epsilon: 0.0513; Mean (100): +13.80 *\n",
      "Epoch: 7800; Score:  13.0; Epsilon: 0.0493; Mean (100): +13.60 *\n",
      "Epoch: 7900; Score:  15.0; Epsilon: 0.0474; Mean (100): +12.96 *\n",
      "Epoch: 8000; Score:  18.0; Epsilon: 0.0456; Mean (100): +13.76 *\n",
      "Epoch: 8100; Score:  10.0; Epsilon: 0.0439; Mean (100): +13.35 *\n",
      "Epoch: 8200; Score:  12.0; Epsilon: 0.0423; Mean (100): +13.70 *\n",
      "Epoch: 8300; Score:  14.0; Epsilon: 0.0407; Mean (100): +13.18 *\n",
      "Epoch: 8400; Score:  19.0; Epsilon: 0.0393; Mean (100): +13.72 *\n",
      "Epoch: 8500; Score:  15.0; Epsilon: 0.0379; Mean (100): +12.98 *\n",
      "Epoch: 8600; Score:  15.0; Epsilon: 0.0365; Mean (100): +12.48 *\n",
      "Epoch: 8700; Score:  14.0; Epsilon: 0.0352; Mean (100): +13.96 *\n",
      "Epoch: 8800; Score:  16.0; Epsilon: 0.0340; Mean (100): +14.82 *\n",
      "Epoch: 8900; Score:  11.0; Epsilon: 0.0329; Mean (100): +13.89 *\n",
      "Epoch: 9000; Score:  12.0; Epsilon: 0.0318; Mean (100): +13.51 *\n",
      "Epoch: 9100; Score:   7.0; Epsilon: 0.0307; Mean (100): +13.61 *\n",
      "Epoch: 9200; Score:  12.0; Epsilon: 0.0297; Mean (100): +13.75 *\n",
      "Epoch: 9300; Score:  16.0; Epsilon: 0.0288; Mean (100): +13.54 *\n",
      "Epoch: 9400; Score:  22.0; Epsilon: 0.0279; Mean (100): +14.55 *\n",
      "Epoch: 9500; Score:  13.0; Epsilon: 0.0270; Mean (100): +13.97 *\n",
      "Epoch: 9600; Score:  17.0; Epsilon: 0.0262; Mean (100): +14.39 *\n",
      "Epoch: 9700; Score:  13.0; Epsilon: 0.0254; Mean (100): +14.68 *\n",
      "Epoch: 9800; Score:  17.0; Epsilon: 0.0246; Mean (100): +14.94 *\n",
      "Epoch: 9900; Score:  13.0; Epsilon: 0.0239; Mean (100): +14.22 *\n",
      "Epoch:10000; Score:  15.0; Epsilon: 0.0233; Mean (100): +14.15 *\n",
      "Epoch:10100; Score:  18.0; Epsilon: 0.0226; Mean (100): +13.96 *\n",
      "Epoch:10200; Score:  13.0; Epsilon: 0.0220; Mean (100): +14.53 *\n",
      "Epoch:10300; Score:  11.0; Epsilon: 0.0214; Mean (100): +13.98 *\n",
      "Epoch:10400; Score:  14.0; Epsilon: 0.0209; Mean (100): +14.29 *\n",
      "Epoch:10500; Score:  22.0; Epsilon: 0.0203; Mean (100): +14.97 *\n",
      "Epoch:10600; Score:  18.0; Epsilon: 0.0198; Mean (100): +14.17 *\n",
      "Epoch:10669; Score:  16.0; Epsilon: 0.0195; Mean (100): +15.65 #\n",
      "My criterion reached (Mean of recent 100 runs > 15.6), enviroment is considered as solved!\n"
     ]
    }
   ],
   "source": [
    "scores = []  # List with all scores per episode\n",
    "scores_100_mean = 0 # Mean score over the last 100 episodes\n",
    "\n",
    "NUM_EPISODES = 40000\n",
    "CRIT_SOLVED = 15.6 #How many Bananas must be collected to succeed?\n",
    "\n",
    "epsilon = get_epsilon_i(NUM_EPISODES, evaluate = False)\n",
    "\n",
    "for epc in range(NUM_EPISODES):\n",
    "\n",
    "    env_info = env.reset(train_mode=True)[brain_name]  # reset the environment\n",
    "    state = env_info.vector_observations[0]            # get the current state\n",
    "    score = 0     # initialize the score\n",
    "    \n",
    "\n",
    "    start_time = time.time()\n",
    "\n",
    "    while True:\n",
    "        action = agent.act(state, epsilon[epc])        # select an action\n",
    "        env_info = env.step(action)[brain_name]        # send the action to the environment\n",
    "        next_state = env_info.vector_observations[0]   # get the next state\n",
    "        reward = env_info.rewards[0]                   # get the reward\n",
    "        done = env_info.local_done[0]                  # see if episode has finished\n",
    "        agent.step(state, action, reward, next_state, done)\n",
    "        score += reward                                # update the score\n",
    "        state = next_state                             # roll over the state to next time step\n",
    "        if done:                                       # exit loop if episode finished\n",
    "            break\n",
    "\n",
    "    scores.append(score)\n",
    "    if len(scores) >= 100:\n",
    "        scores_100_mean = np.mean( scores[-100:] )\n",
    "        \n",
    "    \n",
    "    stop_time = time.time()\n",
    "\n",
    "    print( '\\rEpoch:{:>5}; Score: {:>5}; Epsilon: {:2.4f}; Mean (100): {:+3.2f}'.format( epc+1, score, epsilon[epc], scores_100_mean ), \\\n",
    "          end = ' ')\n",
    "    if ( epc+1 ) % 100 == 0:       \n",
    "        print('*')\n",
    "        \n",
    "    if (scores_100_mean > CRIT_SOLVED):\n",
    "        print('#')\n",
    "        # print( 'Udacity criterion reached (Mean of recent 100 runs > 13), enviroment is considered as solved!')\n",
    "        print( 'My criterion reached (Mean of recent 100 runs > '+ str(CRIT_SOLVED) +'), enviroment is considered as solved!')\n",
    "        break\n"
   ]
  },
  {
   "cell_type": "code",
   "execution_count": 8,
   "metadata": {},
   "outputs": [
    {
     "data": {
      "image/png": "[encoded data removed]",
      "text/plain": [
       "<Figure size 432x288 with 1 Axes>"
      ]
     },
     "metadata": {
      "needs_background": "light"
     },
     "output_type": "display_data"
    }
   ],
   "source": [
    "import matplotlib.pyplot as plt\n",
    "\n",
    "plt.plot(scores)\n",
    "plt.ylabel('Training scores')\n",
    "plt.show()"
   ]
  },
  {
   "cell_type": "code",
   "execution_count": 9,
   "metadata": {},
   "outputs": [
    {
     "name": "stdout",
     "output_type": "stream",
     "text": [
      "Timestamp is: 20200707175101\n"
     ]
    }
   ],
   "source": [
    "# Thx2: https://pytorch.org/tutorials/beginner/saving_loading_models.html\n",
    "\n",
    "import torch\n",
    "\n",
    "timestamp = get_time_string()\n",
    "torch.save(agent.qnetwork_local.state_dict(), './output/' + timestamp + '_qnetwork_local_statedict.pth')\n",
    "print('Timestamp is: ' + timestamp)"
   ]
  },
  {
   "cell_type": "code",
   "execution_count": 10,
   "metadata": {},
   "outputs": [],
   "source": [
    "env.close()"
   ]
  },
  {
   "cell_type": "markdown",
   "metadata": {},
   "source": [
    "# Watch the trained agent in action!"
   ]
  },
  {
   "cell_type": "code",
   "execution_count": 6,
   "metadata": {},
   "outputs": [],
   "source": [
    "from dql_agent import Agent\n",
    "\n",
    "agent = Agent(state_size, action_size, seed = int( time.time() ) )"
   ]
  },
  {
   "cell_type": "code",
   "execution_count": 7,
   "metadata": {},
   "outputs": [
    {
     "name": "stdout",
     "output_type": "stream",
     "text": [
      "CUDA\n"
     ]
    },
    {
     "data": {
      "text/plain": [
       "DQNetwork(\n",
       "  (fc1): Linear(in_features=37, out_features=128, bias=True)\n",
       "  (dr1): Dropout(p=0.3)\n",
       "  (fc2): Linear(in_features=128, out_features=64, bias=True)\n",
       "  (dr2): Dropout(p=0.1)\n",
       "  (fc3): Linear(in_features=64, out_features=32, bias=True)\n",
       "  (fc4): Linear(in_features=32, out_features=4, bias=True)\n",
       ")"
      ]
     },
     "execution_count": 7,
     "metadata": {},
     "output_type": "execute_result"
    }
   ],
   "source": [
    "import torch\n",
    "\n",
    "# FA The network from my GPU training run did not load\n",
    "# Thx 2: https://stackoverflow.com/a/55759312\n",
    "\n",
    "if torch.cuda.is_available():\n",
    "    map_location=lambda storage, loc: storage.cuda()\n",
    "    print('CUDA')\n",
    "else:\n",
    "    map_location='cpu'\n",
    "    print('CPU')\n",
    "    \n",
    "\n",
    "\n",
    "# load the weights from file\n",
    "agent.qnetwork_local.load_state_dict(torch.load('./output/20200707175101_qnetwork_local_statedict_slvd_15-65.pth', map_location=map_location))\n",
    "agent.qnetwork_local.eval() #Set Network in evaluation mode - important!\n",
    "\n",
    "\n"
   ]
  },
  {
   "cell_type": "code",
   "execution_count": 8,
   "metadata": {},
   "outputs": [
    {
     "name": "stdout",
     "output_type": "stream",
     "text": [
      "Epoch:    1; Score:  12.0; Execution time: 0.9608\n",
      "Epoch:    2; Score:  23.0; Execution time: 0.9696\n",
      "Epoch:    3; Score:  17.0; Execution time: 0.7389\n",
      "Epoch:    4; Score:  17.0; Execution time: 0.8499\n",
      "Epoch:    5; Score:  16.0; Execution time: 0.5031\n",
      "Epoch:    6; Score:  12.0; Execution time: 0.7478\n",
      "Epoch:    7; Score:   9.0; Execution time: 0.5867\n",
      "Epoch:    8; Score:  15.0; Execution time: 0.4843\n",
      "Epoch:    9; Score:  16.0; Execution time: 0.8002\n",
      "Epoch:   10; Score:  16.0; Execution time: 0.9210\n",
      "Epoch:   11; Score:  15.0; Execution time: 0.4745\n",
      "Epoch:   12; Score:  14.0; Execution time: 0.5075\n",
      "Epoch:   13; Score:  14.0; Execution time: 0.4690\n",
      "Epoch:   14; Score:   5.0; Execution time: 0.4766\n",
      "Epoch:   15; Score:   9.0; Execution time: 0.5222\n",
      "Epoch:   16; Score:  17.0; Execution time: 0.4925\n",
      "Epoch:   17; Score:  13.0; Execution time: 0.5158\n",
      "Epoch:   18; Score:   3.0; Execution time: 0.5220\n",
      "Epoch:   19; Score:   3.0; Execution time: 0.4773\n",
      "Epoch:   20; Score:  17.0; Execution time: 0.5140\n",
      "Epoch:   21; Score:  17.0; Execution time: 0.4780\n",
      "Epoch:   22; Score:  15.0; Execution time: 0.5086\n",
      "Epoch:   23; Score:   7.0; Execution time: 0.5021\n",
      "Epoch:   24; Score:  16.0; Execution time: 0.5050\n",
      "Epoch:   25; Score:  14.0; Execution time: 0.4652\n",
      "Epoch:   26; Score:  11.0; Execution time: 0.4734\n",
      "Epoch:   27; Score:   7.0; Execution time: 0.4974\n",
      "Epoch:   28; Score:  17.0; Execution time: 0.4884\n",
      "Epoch:   29; Score:  12.0; Execution time: 0.4714\n",
      "Epoch:   30; Score:  13.0; Execution time: 0.4872\n",
      "Epoch:   31; Score:  11.0; Execution time: 0.4607\n",
      "Epoch:   32; Score:  13.0; Execution time: 0.4711\n",
      "Epoch:   33; Score:  16.0; Execution time: 0.5026\n",
      "Epoch:   34; Score:  18.0; Execution time: 0.4915\n",
      "Epoch:   35; Score:  15.0; Execution time: 0.4812\n",
      "Epoch:   36; Score:  21.0; Execution time: 0.5458\n",
      "Epoch:   37; Score:  15.0; Execution time: 0.5088\n",
      "Epoch:   38; Score:  17.0; Execution time: 0.4876\n",
      "Epoch:   39; Score:  14.0; Execution time: 0.4668\n",
      "Epoch:   40; Score:  19.0; Execution time: 0.8280\n",
      "Epoch:   41; Score:   3.0; Execution time: 0.7758\n",
      "Epoch:   42; Score:  11.0; Execution time: 0.4780\n",
      "Epoch:   43; Score:  14.0; Execution time: 0.5072\n",
      "Epoch:   44; Score:  12.0; Execution time: 0.5366\n",
      "Epoch:   45; Score:   8.0; Execution time: 0.5142\n",
      "Epoch:   46; Score:  13.0; Execution time: 0.5251\n",
      "Epoch:   47; Score:  12.0; Execution time: 0.5036\n",
      "Epoch:   48; Score:  10.0; Execution time: 0.4601\n",
      "Epoch:   49; Score:  15.0; Execution time: 0.4889\n",
      "Epoch:   50; Score:  16.0; Execution time: 0.4970\n",
      "Epoch:   51; Score:  10.0; Execution time: 0.5047\n",
      "Epoch:   52; Score:  16.0; Execution time: 0.5129\n",
      "Epoch:   53; Score:  18.0; Execution time: 0.5034\n",
      "Epoch:   54; Score:  12.0; Execution time: 0.4792\n",
      "Epoch:   55; Score:  11.0; Execution time: 0.4938\n",
      "Epoch:   56; Score:   0.0; Execution time: 0.5010\n",
      "Epoch:   57; Score:  15.0; Execution time: 0.4892\n",
      "Epoch:   58; Score:  16.0; Execution time: 0.5152\n",
      "Epoch:   59; Score:  19.0; Execution time: 1.0309\n",
      "Epoch:   60; Score:  17.0; Execution time: 0.6317\n",
      "Epoch:   61; Score:   8.0; Execution time: 0.4841\n",
      "Epoch:   62; Score:  13.0; Execution time: 0.4987\n",
      "Epoch:   63; Score:  16.0; Execution time: 0.5255\n",
      "Epoch:   64; Score:  19.0; Execution time: 0.5496\n",
      "Epoch:   65; Score:  20.0; Execution time: 0.7227\n",
      "Epoch:   66; Score:  11.0; Execution time: 0.6640\n",
      "Epoch:   67; Score:  17.0; Execution time: 0.7915\n",
      "Epoch:   68; Score:  16.0; Execution time: 0.5013\n",
      "Epoch:   69; Score:  15.0; Execution time: 0.4963\n",
      "Epoch:   70; Score:  17.0; Execution time: 0.6210\n",
      "Epoch:   71; Score:  16.0; Execution time: 0.4763\n",
      "Epoch:   72; Score:  20.0; Execution time: 0.5222\n",
      "Epoch:   73; Score:  16.0; Execution time: 0.5031\n",
      "Epoch:   74; Score:  20.0; Execution time: 0.5603\n",
      "Epoch:   75; Score:  12.0; Execution time: 0.4609\n",
      "Epoch:   76; Score:  13.0; Execution time: 0.4968\n",
      "Epoch:   77; Score:  11.0; Execution time: 0.4941\n",
      "Epoch:   78; Score:  10.0; Execution time: 1.0190\n",
      "Epoch:   79; Score:  13.0; Execution time: 0.7582\n",
      "Epoch:   80; Score:  19.0; Execution time: 0.5004\n",
      "Epoch:   81; Score:  17.0; Execution time: 0.4962\n",
      "Epoch:   82; Score:  17.0; Execution time: 0.4943\n",
      "Epoch:   83; Score:   8.0; Execution time: 0.4790\n",
      "Epoch:   84; Score:  14.0; Execution time: 0.7632\n",
      "Epoch:   85; Score:  20.0; Execution time: 0.4709\n",
      "Epoch:   86; Score:  13.0; Execution time: 0.4994\n",
      "Epoch:   87; Score:  10.0; Execution time: 0.4711\n",
      "Epoch:   88; Score:   3.0; Execution time: 0.4538\n",
      "Epoch:   89; Score:  16.0; Execution time: 0.4997\n",
      "Epoch:   90; Score:  19.0; Execution time: 0.5513\n",
      "Epoch:   91; Score:  12.0; Execution time: 0.4659\n",
      "Epoch:   92; Score:  12.0; Execution time: 0.4972\n",
      "Epoch:   93; Score:  14.0; Execution time: 0.5281\n",
      "Epoch:   94; Score:  20.0; Execution time: 1.2632\n",
      "Epoch:   95; Score:  19.0; Execution time: 0.5757\n",
      "Epoch:   96; Score:  14.0; Execution time: 0.7750\n",
      "Epoch:   97; Score:  10.0; Execution time: 0.5283\n",
      "Epoch:   98; Score:   6.0; Execution time: 0.4957\n",
      "Epoch:   99; Score:  14.0; Execution time: 0.5202\n",
      "Epoch:  100; Score:  17.0; Execution time: 0.5151\n",
      "Achieved mean over 100 test runs: 13.76\n"
     ]
    }
   ],
   "source": [
    "score_sum = 0\n",
    "\n",
    "for epc in range(100):\n",
    "\n",
    "    env_info = env.reset(train_mode=True)[brain_name]  # reset the environment\n",
    "    state = env_info.vector_observations[0]            # get the current state\n",
    "    score = 0     # initialize the score\n",
    "\n",
    "    start_time = time.time()\n",
    "\n",
    "    while True:\n",
    "        action = agent.act(state, eps = 0.01 )        # select an action & keep a bit randomness (eps)\n",
    "        env_info = env.step(action)[brain_name]        # send the action to the environment\n",
    "        next_state = env_info.vector_observations[0]   # get the next state\n",
    "        reward = env_info.rewards[0]                   # get the reward\n",
    "        done = env_info.local_done[0]                  # see if episode has finished\n",
    "        # agent.step(state, action, reward, next_state, done) # not step needed in evaluation\n",
    "        score += reward                                # update the score\n",
    "        state = next_state                             # roll over the state to next time step\n",
    "        if done:                                       # exit loop if episode finished\n",
    "            break\n",
    "\n",
    "    stop_time = time.time()\n",
    "    score_sum += score\n",
    "    print( \"Epoch:{:>5}; Score: {:>5}; Execution time: {:.4f}\".format( epc+1, score, stop_time - start_time ) )\n",
    "\n",
    "print( 'Achieved mean over {} test runs: {}'.format( ( epc+1 ), score_sum / (epc+1) ) )\n"
   ]
  },
  {
   "cell_type": "code",
   "execution_count": 9,
   "metadata": {},
   "outputs": [],
   "source": [
    "env.close()"
   ]
  },
  {
   "cell_type": "code",
   "execution_count": null,
   "metadata": {},
   "outputs": [],
   "source": []
  }
 ],
 "metadata": {
  "kernelspec": {
   "display_name": "Python 3",
   "language": "python",
   "name": "python3"
  },
  "language_info": {
   "codemirror_mode": {
    "name": "ipython",
    "version": 3
   },
   "file_extension": ".py",
   "mimetype": "text/x-python",
   "name": "python",
   "nbconvert_exporter": "python",
   "pygments_lexer": "ipython3",
   "version": "3.6.10"
  }
 },
 "nbformat": 4,
 "nbformat_minor": 4
}
