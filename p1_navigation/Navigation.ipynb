{
 "cells": [
  {
   "cell_type": "markdown",
   "metadata": {},
   "source": [
    "# Navigation\n",
    "\n",
    "---\n",
    "\n",
    "In this notebook, you will learn how to use the Unity ML-Agents environment for the first project of the [Deep Reinforcement Learning Nanodegree](https://www.udacity.com/course/deep-reinforcement-learning-nanodegree--nd893).\n",
    "\n",
    "### 1. Start the Environment\n",
    "\n",
    "We begin by importing some necessary packages.  If the code cell below returns an error, please revisit the project instructions to double-check that you have installed [Unity ML-Agents](https://github.com/Unity-Technologies/ml-agents/blob/master/docs/Installation.md) and [NumPy](http://www.numpy.org/)."
   ]
  },
  {
   "cell_type": "code",
   "execution_count": 1,
   "metadata": {},
   "outputs": [],
   "source": [
    "# Only necessary when executing this notebook on the Udacity cloud\n",
    "#!pip -q install ../python"
   ]
  },
  {
   "cell_type": "code",
   "execution_count": 2,
   "metadata": {},
   "outputs": [],
   "source": [
    "from unityagents import UnityEnvironment\n",
    "import numpy as np\n",
    "import os\n",
    "import time"
   ]
  },
  {
   "cell_type": "markdown",
   "metadata": {},
   "source": [
    "Next, we will start the environment!  **_Before running the code cell below_**, change the `file_name` parameter to match the location of the Unity environment that you downloaded.\n",
    "\n",
    "- **Mac**: `\"path/to/Banana.app\"`\n",
    "- **Windows** (x86): `\"path/to/Banana_Windows_x86/Banana.exe\"`\n",
    "- **Windows** (x86_64): `\"path/to/Banana_Windows_x86_64/Banana.exe\"`\n",
    "- **Linux** (x86): `\"path/to/Banana_Linux/Banana.x86\"`\n",
    "- **Linux** (x86_64): `\"path/to/Banana_Linux/Banana.x86_64\"`\n",
    "- **Linux** (x86, headless): `\"path/to/Banana_Linux_NoVis/Banana.x86\"`\n",
    "- **Linux** (x86_64, headless): `\"path/to/Banana_Linux_NoVis/Banana.x86_64\"`\n",
    "\n",
    "For instance, if you are using a Mac, then you downloaded `Banana.app`.  If this file is in the same folder as the notebook, then the line below should appear as follows:\n",
    "```\n",
    "env = UnityEnvironment(file_name=\"Banana.app\")\n",
    "```"
   ]
  },
  {
   "cell_type": "code",
   "execution_count": 3,
   "metadata": {},
   "outputs": [
    {
     "name": "stderr",
     "output_type": "stream",
     "text": [
      "INFO:unityagents:\n",
      "'Academy' started successfully!\n",
      "Unity Academy name: Academy\n",
      "        Number of Brains: 1\n",
      "        Number of External Brains : 1\n",
      "        Lesson number : 0\n",
      "        Reset Parameters :\n",
      "\t\t\n",
      "Unity brain name: BananaBrain\n",
      "        Number of Visual Observations (per agent): 0\n",
      "        Vector Observation space type: continuous\n",
      "        Vector Observation space size (per agent): 37\n",
      "        Number of stacked Vector Observation: 1\n",
      "        Vector Action space type: discrete\n",
      "        Vector Action space size (per agent): 4\n",
      "        Vector Action descriptions: , , , \n"
     ]
    }
   ],
   "source": [
    "# Standalone machine\n",
    "#env = UnityEnvironment( os.path.join( os.environ['HOME'], 'Python/rl/udadrl/data/Banana_Linux/Banana.x86_64' ) ) # Visible (Best 4 testing)\n",
    "env = UnityEnvironment( os.path.join( os.environ['HOME'], 'Python/rl/udadrl/data/Banana_Linux_NoVis/Banana.x86_64' ) ) # Invisible (Best 4 training)\n",
    "\n",
    "# Udacity cloud\n",
    "#env = UnityEnvironment( file_name=\"/data/Banana_Linux_NoVis/Banana.x86_64\" )"
   ]
  },
  {
   "cell_type": "markdown",
   "metadata": {},
   "source": [
    "Environments contain **_brains_** which are responsible for deciding the actions of their associated agents. Here we check for the first brain available, and set it as the default brain we will be controlling from Python."
   ]
  },
  {
   "cell_type": "code",
   "execution_count": 4,
   "metadata": {},
   "outputs": [],
   "source": [
    "# get the default brain\n",
    "brain_name = env.brain_names[0]\n",
    "brain = env.brains[brain_name]"
   ]
  },
  {
   "cell_type": "markdown",
   "metadata": {},
   "source": [
    "### 2. Examine the State and Action Spaces\n",
    "\n",
    "The simulation contains a single agent that navigates a large environment.  At each time step, it has four actions at its disposal:\n",
    "- `0` - walk forward \n",
    "- `1` - walk backward\n",
    "- `2` - turn left\n",
    "- `3` - turn right\n",
    "\n",
    "The state space has `37` dimensions and contains the agent's velocity, along with ray-based perception of objects around agent's forward direction.  A reward of `+1` is provided for collecting a yellow banana, and a reward of `-1` is provided for collecting a blue banana. \n",
    "\n",
    "Run the code cell below to print some information about the environment."
   ]
  },
  {
   "cell_type": "code",
   "execution_count": 5,
   "metadata": {},
   "outputs": [
    {
     "name": "stdout",
     "output_type": "stream",
     "text": [
      "Number of agents: 1\n",
      "Number of actions: 4\n",
      "States look like: [1.         0.         0.         0.         0.84408134 0.\n",
      " 0.         1.         0.         0.0748472  0.         1.\n",
      " 0.         0.         0.25755    1.         0.         0.\n",
      " 0.         0.74177343 0.         1.         0.         0.\n",
      " 0.25854847 0.         0.         1.         0.         0.09355672\n",
      " 0.         1.         0.         0.         0.31969345 0.\n",
      " 0.        ]\n",
      "States have length: 37\n"
     ]
    }
   ],
   "source": [
    "# reset the environment\n",
    "env_info = env.reset(train_mode=True)[brain_name]\n",
    "\n",
    "# number of agents in the environment\n",
    "print('Number of agents:', len(env_info.agents))\n",
    "\n",
    "# number of actions\n",
    "action_size = brain.vector_action_space_size\n",
    "print('Number of actions:', action_size)\n",
    "\n",
    "# examine the state space \n",
    "state = env_info.vector_observations[0]\n",
    "print('States look like:', state)\n",
    "state_size = len(state)\n",
    "print('States have length:', state_size)"
   ]
  },
  {
   "cell_type": "markdown",
   "metadata": {},
   "source": [
    "### 3. Take Random Actions in the Environment\n",
    "\n",
    "In the next code cell, you will learn how to use the Python API to control the agent and receive feedback from the environment.\n",
    "\n",
    "Once this cell is executed, you will watch the agent's performance, if it selects an action (uniformly) at random with each time step.  A window should pop up that allows you to observe the agent, as it moves through the environment.  \n",
    "\n",
    "Of course, as part of the project, you'll have to change the code so that the agent is able to use its experience to gradually choose better actions when interacting with the environment!"
   ]
  },
  {
   "cell_type": "code",
   "execution_count": null,
   "metadata": {},
   "outputs": [],
   "source": [
    "env_info = env.reset(train_mode=False)[brain_name] # reset the environment\n",
    "state = env_info.vector_observations[0]            # get the current state\n",
    "score = 0                                          # initialize the score\n",
    "while True:\n",
    "    action = np.random.randint(action_size)        # select an action\n",
    "    env_info = env.step(action)[brain_name]        # send the action to the environment\n",
    "    next_state = env_info.vector_observations[0]   # get the next state\n",
    "    reward = env_info.rewards[0]                   # get the reward\n",
    "    done = env_info.local_done[0]                  # see if episode has finished\n",
    "    score += reward                                # update the score\n",
    "    state = next_state                             # roll over the state to next time step\n",
    "    if done:                                       # exit loop if episode finished\n",
    "        break\n",
    "    \n",
    "print(\"Score: {}\".format(score))"
   ]
  },
  {
   "cell_type": "markdown",
   "metadata": {},
   "source": [
    "When finished, you can close the environment."
   ]
  },
  {
   "cell_type": "code",
   "execution_count": null,
   "metadata": {},
   "outputs": [],
   "source": [
    "env.close()"
   ]
  },
  {
   "cell_type": "markdown",
   "metadata": {},
   "source": [
    "### 4. It's Your Turn!\n",
    "\n",
    "Now it's your turn to train your own agent to solve the environment!  When training the environment, set `train_mode=True`, so that the line for resetting the environment looks like the following:\n",
    "```python\n",
    "env_info = env.reset(train_mode=True)[brain_name]\n",
    "```"
   ]
  },
  {
   "cell_type": "code",
   "execution_count": 6,
   "metadata": {},
   "outputs": [],
   "source": [
    "from dql_agent import Agent\n",
    "\n",
    "agent = Agent(state_size, action_size, time.time())\n",
    "\n",
    "# Helper functions\n",
    "def get_time_string():\n",
    "    return time.strftime('%Y%m%d%H%M%S')"
   ]
  },
  {
   "cell_type": "code",
   "execution_count": 7,
   "metadata": {},
   "outputs": [
    {
     "name": "stdout",
     "output_type": "stream",
     "text": [
      "Epoch:  100; Score:   0.0; Execution time: 0.7300; Mean (100): +0.03 *\n",
      "Epoch:  200; Score:   1.0; Execution time: 0.7043; Mean (100): -0.15 *\n",
      "Epoch:  300; Score:   1.0; Execution time: 0.6869; Mean (100): -0.01 *\n",
      "Epoch:  400; Score:   0.0; Execution time: 0.7114; Mean (100): +0.19 *\n",
      "Epoch:  500; Score:   0.0; Execution time: 0.7057; Mean (100): +0.04 *\n",
      "Epoch:  600; Score:   1.0; Execution time: 0.6652; Mean (100): +0.05 *\n",
      "Epoch:  700; Score:  -2.0; Execution time: 0.6975; Mean (100): -0.25 *\n",
      "Epoch:  800; Score:  -2.0; Execution time: 0.6781; Mean (100): +0.20 *\n",
      "Epoch:  900; Score:   0.0; Execution time: 0.6811; Mean (100): +0.03 *\n",
      "Epoch: 1000; Score:   0.0; Execution time: 0.7078; Mean (100): -0.01 *\n",
      "Epoch: 1100; Score:  -1.0; Execution time: 0.6934; Mean (100): -0.09 *\n",
      "Epoch: 1200; Score:   0.0; Execution time: 0.6933; Mean (100): -0.08 *\n",
      "Epoch: 1300; Score:   0.0; Execution time: 0.6595; Mean (100): -0.26 *\n",
      "Epoch: 1400; Score:   0.0; Execution time: 0.6540; Mean (100): +0.04 *\n",
      "Epoch: 1500; Score:   0.0; Execution time: 0.6880; Mean (100): -0.10 *\n",
      "Epoch: 1600; Score:   1.0; Execution time: 0.6624; Mean (100): +0.08 *\n",
      "Epoch: 1700; Score:  -2.0; Execution time: 0.6448; Mean (100): +0.04 *\n",
      "Epoch: 1800; Score:   0.0; Execution time: 0.6713; Mean (100): +0.00 *\n",
      "Epoch: 1900; Score:   0.0; Execution time: 0.6589; Mean (100): -0.06 *\n",
      "Epoch: 2000; Score:  -2.0; Execution time: 0.7197; Mean (100): -0.09 *\n",
      "Epoch: 2100; Score:   1.0; Execution time: 0.6611; Mean (100): +0.19 *\n",
      "Epoch: 2200; Score:   0.0; Execution time: 0.6772; Mean (100): -0.10 *\n",
      "Epoch: 2300; Score:   0.0; Execution time: 0.6826; Mean (100): +0.02 *\n",
      "Epoch: 2400; Score:   1.0; Execution time: 0.7079; Mean (100): +0.08 *\n",
      "Epoch: 2500; Score:   0.0; Execution time: 0.6595; Mean (100): +0.14 *\n",
      "Epoch: 2600; Score:  -1.0; Execution time: 0.6519; Mean (100): +0.17 *\n",
      "Epoch: 2700; Score:   0.0; Execution time: 0.6681; Mean (100): -0.02 *\n",
      "Epoch: 2800; Score:   0.0; Execution time: 0.6642; Mean (100): -0.08 *\n",
      "Epoch: 2900; Score:   0.0; Execution time: 0.7306; Mean (100): +0.00 *\n",
      "Epoch: 3000; Score:   1.0; Execution time: 0.6573; Mean (100): +0.02 *\n",
      "Epoch: 3100; Score:   0.0; Execution time: 0.7229; Mean (100): +0.09 *\n",
      "Epoch: 3200; Score:   0.0; Execution time: 0.6823; Mean (100): +0.11 *\n",
      "Epoch: 3300; Score:  -1.0; Execution time: 0.6994; Mean (100): +0.04 *\n",
      "Epoch: 3400; Score:   0.0; Execution time: 0.7064; Mean (100): +0.13 *\n",
      "Epoch: 3500; Score:  -2.0; Execution time: 0.6740; Mean (100): -0.14 *\n",
      "Epoch: 3600; Score:   0.0; Execution time: 0.6852; Mean (100): +0.04 *\n",
      "Epoch: 3700; Score:  -1.0; Execution time: 0.7172; Mean (100): +0.14 *\n",
      "Epoch: 3800; Score:   0.0; Execution time: 0.6435; Mean (100): +0.20 *\n",
      "Epoch: 3900; Score:   1.0; Execution time: 0.6453; Mean (100): -0.04 *\n",
      "Epoch: 4000; Score:   0.0; Execution time: 0.6869; Mean (100): -0.11 *\n"
     ]
    }
   ],
   "source": [
    "scores = []  # List with all scores per episode\n",
    "scores_100_mean = 0 # Mean score over the last 100 episodes\n",
    "\n",
    "for epc in range(4000):\n",
    "\n",
    "    env_info = env.reset(train_mode=True)[brain_name]  # reset the environment\n",
    "    state = env_info.vector_observations[0]            # get the current state\n",
    "    score = 0     # initialize the score\n",
    "    \n",
    "\n",
    "    start_time = time.time()\n",
    "\n",
    "    while True:\n",
    "        action = agent.act(state)        # select an action\n",
    "        env_info = env.step(action)[brain_name]        # send the action to the environment\n",
    "        next_state = env_info.vector_observations[0]   # get the next state\n",
    "        reward = env_info.rewards[0]                   # get the reward\n",
    "        done = env_info.local_done[0]                  # see if episode has finished\n",
    "        agent.step(state, action, reward, next_state, done)\n",
    "        score += reward                                # update the score\n",
    "        state = next_state                             # roll over the state to next time step\n",
    "        if done:                                       # exit loop if episode finished\n",
    "            break\n",
    "\n",
    "    scores.append(score)\n",
    "    if len(scores) >= 100:\n",
    "        scores_100_mean = np.mean( scores[-100:] )\n",
    "        \n",
    "    \n",
    "    stop_time = time.time()\n",
    "\n",
    "    print( '\\rEpoch:{:>5}; Score: {:>5}; Execution time: {:.4f}; Mean (100): {:+3.2f}'.format( epc+1, score, stop_time - start_time, scores_100_mean ), \\\n",
    "          end = ' ')\n",
    "    if ( epc+1 ) % 100 == 0:       \n",
    "        print('*')\n",
    "        \n",
    "    if (scores_100_mean > 14):\n",
    "        print('#')\n",
    "        # print( 'Udacity criterion reached (Mean of recent 100 runs > 13), enviroment is considered as solved!')\n",
    "        print( 'My criterion reached (Mean of recent 100 runs > 14), enviroment is considered as solved!')\n",
    "        break\n"
   ]
  },
  {
   "cell_type": "code",
   "execution_count": 8,
   "metadata": {},
   "outputs": [
    {
     "data": {
      "image/png": "[encoded data removed]",
      "text/plain": [
       "<Figure size 432x288 with 1 Axes>"
      ]
     },
     "metadata": {
      "needs_background": "light"
     },
     "output_type": "display_data"
    }
   ],
   "source": [
    "import matplotlib.pyplot as plt\n",
    "\n",
    "plt.plot(scores)\n",
    "plt.ylabel('Training scores')\n",
    "plt.show()"
   ]
  },
  {
   "cell_type": "code",
   "execution_count": 9,
   "metadata": {},
   "outputs": [],
   "source": [
    "# Thx2: https://pytorch.org/tutorials/beginner/saving_loading_models.html\n",
    "\n",
    "import torch\n",
    "\n",
    "torch.save(agent.qnetwork_local.state_dict(), './output/' + get_time_string() + '_qnetwork_local_statedict.pth')\n"
   ]
  },
  {
   "cell_type": "code",
   "execution_count": 10,
   "metadata": {},
   "outputs": [],
   "source": [
    "env.close()"
   ]
  },
  {
   "cell_type": "markdown",
   "metadata": {},
   "source": [
    "# Watch the trained agent in action!"
   ]
  },
  {
   "cell_type": "code",
   "execution_count": null,
   "metadata": {},
   "outputs": [],
   "source": [
    "from dql_agent import Agent\n",
    "\n",
    "agent = Agent(state_size, action_size)"
   ]
  },
  {
   "cell_type": "code",
   "execution_count": null,
   "metadata": {},
   "outputs": [],
   "source": [
    "import torch\n",
    "\n",
    "# FA The network from my GPU training run did not load\n",
    "# Thx 2: https://stackoverflow.com/a/55759312\n",
    "\n",
    "if torch.cuda.is_available():\n",
    "    map_location=lambda storage, loc: storage.cuda()\n",
    "    print('CUDA')\n",
    "else:\n",
    "    map_location='cpu'\n",
    "    print('CPU')\n",
    "    \n",
    "\n",
    "\n",
    "# load the weights from file\n",
    "agent.qnetwork_local.load_state_dict(torch.load('./output/20200706160011_qnetwork_local_statedict.pth', map_location=map_location))\n",
    "agent.qnetwork_local.eval() #Set Network in evaluation mode - important!\n",
    "\n",
    "\n"
   ]
  },
  {
   "cell_type": "code",
   "execution_count": null,
   "metadata": {},
   "outputs": [],
   "source": [
    "score_sum = 0\n",
    "\n",
    "for epc in range(5):\n",
    "\n",
    "    env_info = env.reset(train_mode=False)[brain_name]  # reset the environment\n",
    "    state = env_info.vector_observations[0]            # get the current state\n",
    "    score = 0     # initialize the score\n",
    "\n",
    "    start_time = time.time()\n",
    "\n",
    "    while True:\n",
    "        action = agent.act(state)        # select an action\n",
    "        env_info = env.step(action)[brain_name]        # send the action to the environment\n",
    "        next_state = env_info.vector_observations[0]   # get the next state\n",
    "        reward = env_info.rewards[0]                   # get the reward\n",
    "        done = env_info.local_done[0]                  # see if episode has finished\n",
    "        # agent.step(state, action, reward, next_state, done) # not step needed in evaluation\n",
    "        score += reward                                # update the score\n",
    "        state = next_state                             # roll over the state to next time step\n",
    "        if done:                                       # exit loop if episode finished\n",
    "            break\n",
    "\n",
    "    stop_time = time.time()\n",
    "    score_sum += score\n",
    "    print( \"Epoch:{:>5}; Score: {:>5}; Execution time: {:.4f}\".format( epc+1, score, stop_time - start_time ) )\n",
    "\n",
    "print( 'Achieved mean over {} test runs: {}'.format( ( epc+1 ), score_sum / (epc+1) ) )\n"
   ]
  },
  {
   "cell_type": "code",
   "execution_count": null,
   "metadata": {},
   "outputs": [],
   "source": [
    "env.close()"
   ]
  },
  {
   "cell_type": "code",
   "execution_count": null,
   "metadata": {},
   "outputs": [],
   "source": []
  }
 ],
 "metadata": {
  "kernelspec": {
   "display_name": "Python 3",
   "language": "python",
   "name": "python3"
  },
  "language_info": {
   "codemirror_mode": {
    "name": "ipython",
    "version": 3
   },
   "file_extension": ".py",
   "mimetype": "text/x-python",
   "name": "python",
   "nbconvert_exporter": "python",
   "pygments_lexer": "ipython3",
   "version": "3.6.10"
  }
 },
 "nbformat": 4,
 "nbformat_minor": 4
}
