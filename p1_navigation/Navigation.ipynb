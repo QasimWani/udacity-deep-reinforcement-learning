{
 "cells": [
  {
   "cell_type": "markdown",
   "metadata": {},
   "source": [
    "# Navigation\n",
    "\n",
    "---\n",
    "\n",
    "In this notebook, you will learn how to use the Unity ML-Agents environment for the first project of the [Deep Reinforcement Learning Nanodegree](https://www.udacity.com/course/deep-reinforcement-learning-nanodegree--nd893).\n",
    "\n",
    "### 1. Start the Environment\n",
    "\n",
    "We begin by importing some necessary packages.  If the code cell below returns an error, please revisit the project instructions to double-check that you have installed [Unity ML-Agents](https://github.com/Unity-Technologies/ml-agents/blob/master/docs/Installation.md) and [NumPy](http://www.numpy.org/)."
   ]
  },
  {
   "cell_type": "code",
   "execution_count": 1,
   "metadata": {},
   "outputs": [],
   "source": [
    "# Only necessary when executing this notebook on the Udacity cloud\n",
    "#!pip -q install ../python"
   ]
  },
  {
   "cell_type": "code",
   "execution_count": 2,
   "metadata": {},
   "outputs": [],
   "source": [
    "from unityagents import UnityEnvironment\n",
    "import numpy as np\n",
    "import os\n",
    "import time"
   ]
  },
  {
   "cell_type": "markdown",
   "metadata": {},
   "source": [
    "Next, we will start the environment!  **_Before running the code cell below_**, change the `file_name` parameter to match the location of the Unity environment that you downloaded.\n",
    "\n",
    "- **Mac**: `\"path/to/Banana.app\"`\n",
    "- **Windows** (x86): `\"path/to/Banana_Windows_x86/Banana.exe\"`\n",
    "- **Windows** (x86_64): `\"path/to/Banana_Windows_x86_64/Banana.exe\"`\n",
    "- **Linux** (x86): `\"path/to/Banana_Linux/Banana.x86\"`\n",
    "- **Linux** (x86_64): `\"path/to/Banana_Linux/Banana.x86_64\"`\n",
    "- **Linux** (x86, headless): `\"path/to/Banana_Linux_NoVis/Banana.x86\"`\n",
    "- **Linux** (x86_64, headless): `\"path/to/Banana_Linux_NoVis/Banana.x86_64\"`\n",
    "\n",
    "For instance, if you are using a Mac, then you downloaded `Banana.app`.  If this file is in the same folder as the notebook, then the line below should appear as follows:\n",
    "```\n",
    "env = UnityEnvironment(file_name=\"Banana.app\")\n",
    "```"
   ]
  },
  {
   "cell_type": "code",
   "execution_count": 3,
   "metadata": {},
   "outputs": [
    {
     "name": "stderr",
     "output_type": "stream",
     "text": [
      "INFO:unityagents:\n",
      "'Academy' started successfully!\n",
      "Unity Academy name: Academy\n",
      "        Number of Brains: 1\n",
      "        Number of External Brains : 1\n",
      "        Lesson number : 0\n",
      "        Reset Parameters :\n",
      "\t\t\n",
      "Unity brain name: BananaBrain\n",
      "        Number of Visual Observations (per agent): 0\n",
      "        Vector Observation space type: continuous\n",
      "        Vector Observation space size (per agent): 37\n",
      "        Number of stacked Vector Observation: 1\n",
      "        Vector Action space type: discrete\n",
      "        Vector Action space size (per agent): 4\n",
      "        Vector Action descriptions: , , , \n"
     ]
    }
   ],
   "source": [
    "# Standalone machine\n",
    "#env = UnityEnvironment( os.path.join( os.environ['HOME'], 'Python/rl/udadrl/data/Banana_Linux/Banana.x86_64' ) ) # Visible (Best 4 testing)\n",
    "env = UnityEnvironment( os.path.join( os.environ['HOME'], 'Python/rl/udadrl/data/Banana_Linux_NoVis/Banana.x86_64' ) ) # Invisible (Best 4 training)\n",
    "\n",
    "# Udacity cloud\n",
    "#env = UnityEnvironment( file_name=\"/data/Banana_Linux_NoVis/Banana.x86_64\" )"
   ]
  },
  {
   "cell_type": "markdown",
   "metadata": {},
   "source": [
    "Environments contain **_brains_** which are responsible for deciding the actions of their associated agents. Here we check for the first brain available, and set it as the default brain we will be controlling from Python."
   ]
  },
  {
   "cell_type": "code",
   "execution_count": 4,
   "metadata": {},
   "outputs": [],
   "source": [
    "# get the default brain\n",
    "brain_name = env.brain_names[0]\n",
    "brain = env.brains[brain_name]"
   ]
  },
  {
   "cell_type": "markdown",
   "metadata": {},
   "source": [
    "### 2. Examine the State and Action Spaces\n",
    "\n",
    "The simulation contains a single agent that navigates a large environment.  At each time step, it has four actions at its disposal:\n",
    "- `0` - walk forward \n",
    "- `1` - walk backward\n",
    "- `2` - turn left\n",
    "- `3` - turn right\n",
    "\n",
    "The state space has `37` dimensions and contains the agent's velocity, along with ray-based perception of objects around agent's forward direction.  A reward of `+1` is provided for collecting a yellow banana, and a reward of `-1` is provided for collecting a blue banana. \n",
    "\n",
    "Run the code cell below to print some information about the environment."
   ]
  },
  {
   "cell_type": "code",
   "execution_count": 5,
   "metadata": {},
   "outputs": [
    {
     "name": "stdout",
     "output_type": "stream",
     "text": [
      "Number of agents: 1\n",
      "Number of actions: 4\n",
      "States look like: [1.         0.         0.         0.         0.84408134 0.\n",
      " 0.         1.         0.         0.0748472  0.         1.\n",
      " 0.         0.         0.25755    1.         0.         0.\n",
      " 0.         0.74177343 0.         1.         0.         0.\n",
      " 0.25854847 0.         0.         1.         0.         0.09355672\n",
      " 0.         1.         0.         0.         0.31969345 0.\n",
      " 0.        ]\n",
      "States have length: 37\n"
     ]
    }
   ],
   "source": [
    "# reset the environment\n",
    "env_info = env.reset(train_mode=True)[brain_name]\n",
    "\n",
    "# number of agents in the environment\n",
    "print('Number of agents:', len(env_info.agents))\n",
    "\n",
    "# number of actions\n",
    "action_size = brain.vector_action_space_size\n",
    "print('Number of actions:', action_size)\n",
    "\n",
    "# examine the state space \n",
    "state = env_info.vector_observations[0]\n",
    "print('States look like:', state)\n",
    "state_size = len(state)\n",
    "print('States have length:', state_size)"
   ]
  },
  {
   "cell_type": "markdown",
   "metadata": {},
   "source": [
    "### 3. Take Random Actions in the Environment\n",
    "\n",
    "In the next code cell, you will learn how to use the Python API to control the agent and receive feedback from the environment.\n",
    "\n",
    "Once this cell is executed, you will watch the agent's performance, if it selects an action (uniformly) at random with each time step.  A window should pop up that allows you to observe the agent, as it moves through the environment.  \n",
    "\n",
    "Of course, as part of the project, you'll have to change the code so that the agent is able to use its experience to gradually choose better actions when interacting with the environment!"
   ]
  },
  {
   "cell_type": "code",
   "execution_count": null,
   "metadata": {},
   "outputs": [],
   "source": [
    "env_info = env.reset(train_mode=False)[brain_name] # reset the environment\n",
    "state = env_info.vector_observations[0]            # get the current state\n",
    "score = 0                                          # initialize the score\n",
    "while True:\n",
    "    action = np.random.randint(action_size)        # select an action\n",
    "    env_info = env.step(action)[brain_name]        # send the action to the environment\n",
    "    next_state = env_info.vector_observations[0]   # get the next state\n",
    "    reward = env_info.rewards[0]                   # get the reward\n",
    "    done = env_info.local_done[0]                  # see if episode has finished\n",
    "    score += reward                                # update the score\n",
    "    state = next_state                             # roll over the state to next time step\n",
    "    if done:                                       # exit loop if episode finished\n",
    "        break\n",
    "    \n",
    "print(\"Score: {}\".format(score))"
   ]
  },
  {
   "cell_type": "markdown",
   "metadata": {},
   "source": [
    "When finished, you can close the environment."
   ]
  },
  {
   "cell_type": "code",
   "execution_count": null,
   "metadata": {},
   "outputs": [],
   "source": [
    "env.close()"
   ]
  },
  {
   "cell_type": "markdown",
   "metadata": {},
   "source": [
    "### 4. It's Your Turn!\n",
    "\n",
    "Now it's your turn to train your own agent to solve the environment!  When training the environment, set `train_mode=True`, so that the line for resetting the environment looks like the following:\n",
    "```python\n",
    "env_info = env.reset(train_mode=True)[brain_name]\n",
    "```"
   ]
  },
  {
   "cell_type": "code",
   "execution_count": 6,
   "metadata": {},
   "outputs": [],
   "source": [
    "from dql_agent import Agent\n",
    "from math import tanh\n",
    "\n",
    "\n",
    "#agent = Agent(state_size, action_size, time.time())\n",
    "agent = Agent(state_size, action_size)\n",
    "\n",
    "# Helper functions\n",
    "def get_time_string():\n",
    "    return time.strftime('%Y%m%d%H%M%S')\n",
    "\n",
    "def get_epsilon_i(num_episodes, epsilon_min = 0.01, evaluate = True): # evaluate is True by default coz tanh doesn't work well with Sarsa\n",
    "        \"\"\" Getting a nice numpy array with epsilon values for every episode according to\n",
    "        epsilon_i = epsilon_min+(1.0-epsilon_min)*(1-tanh(10*(i/num_episodes))) \"\"\"\n",
    "        if evaluate:\n",
    "            epsilon = [1.0 / (i+1) for i in range(num_episodes+10)]\n",
    "        else:\n",
    "            epsilon = [epsilon_min+(1.0-epsilon_min)*(1-tanh(10*(i/num_episodes))) for i in range(num_episodes+10)]\n",
    "        return epsilon\n",
    "    "
   ]
  },
  {
   "cell_type": "code",
   "execution_count": 7,
   "metadata": {},
   "outputs": [
    {
     "name": "stdout",
     "output_type": "stream",
     "text": [
      "Epoch:  100; Score:   1.0; Epsilon: 0.9510; Mean (100): -0.01 *\n",
      "Epoch:  200; Score:   0.0; Epsilon: 0.9018; Mean (100): +0.22 *\n",
      "Epoch:  300; Score:   3.0; Epsilon: 0.8531; Mean (100): +0.53 *\n",
      "Epoch:  400; Score:   0.0; Epsilon: 0.8051; Mean (100): +0.97 *\n",
      "Epoch:  500; Score:   2.0; Epsilon: 0.7580; Mean (100): +1.74 *\n",
      "Epoch:  600; Score:   2.0; Epsilon: 0.7121; Mean (100): +2.12 *\n",
      "Epoch:  700; Score:   3.0; Epsilon: 0.6674; Mean (100): +3.13 *\n",
      "Epoch:  800; Score:   4.0; Epsilon: 0.6243; Mean (100): +2.94 *\n",
      "Epoch:  900; Score:   5.0; Epsilon: 0.5827; Mean (100): +4.29 *\n",
      "Epoch: 1000; Score:   4.0; Epsilon: 0.5429; Mean (100): +4.89 *\n",
      "Epoch: 1100; Score:   5.0; Epsilon: 0.5049; Mean (100): +5.29 *\n",
      "Epoch: 1200; Score:  13.0; Epsilon: 0.4687; Mean (100): +6.30 *\n",
      "Epoch: 1300; Score:  11.0; Epsilon: 0.4344; Mean (100): +6.80 *\n",
      "Epoch: 1400; Score:   7.0; Epsilon: 0.4020; Mean (100): +6.89 *\n",
      "Epoch: 1500; Score:   9.0; Epsilon: 0.3715; Mean (100): +7.75 *\n",
      "Epoch: 1600; Score:   5.0; Epsilon: 0.3429; Mean (100): +8.33 *\n",
      "Epoch: 1700; Score:   7.0; Epsilon: 0.3161; Mean (100): +8.72 *\n",
      "Epoch: 1800; Score:  10.0; Epsilon: 0.2911; Mean (100): +9.07 *\n",
      "Epoch: 1900; Score:   5.0; Epsilon: 0.2678; Mean (100): +10.19 *\n",
      "Epoch: 2000; Score:  11.0; Epsilon: 0.2462; Mean (100): +10.42 *\n",
      "Epoch: 2100; Score:   8.0; Epsilon: 0.2262; Mean (100): +11.27 *\n",
      "Epoch: 2200; Score:   9.0; Epsilon: 0.2077; Mean (100): +10.52 *\n",
      "Epoch: 2300; Score:  16.0; Epsilon: 0.1906; Mean (100): +10.84 *\n",
      "Epoch: 2400; Score:  13.0; Epsilon: 0.1748; Mean (100): +11.30 *\n",
      "Epoch: 2500; Score:  18.0; Epsilon: 0.1603; Mean (100): +11.47 *\n",
      "Epoch: 2600; Score:  15.0; Epsilon: 0.1470; Mean (100): +10.99 *\n",
      "Epoch: 2700; Score:  12.0; Epsilon: 0.1348; Mean (100): +12.23 *\n",
      "Epoch: 2800; Score:   3.0; Epsilon: 0.1236; Mean (100): +11.80 *\n",
      "Epoch: 2900; Score:  16.0; Epsilon: 0.1134; Mean (100): +12.81 *\n",
      "Epoch: 3000; Score:   3.0; Epsilon: 0.1040; Mean (100): +12.94 *\n",
      "Epoch: 3100; Score:  19.0; Epsilon: 0.0954; Mean (100): +12.69 *\n",
      "Epoch: 3200; Score:  15.0; Epsilon: 0.0876; Mean (100): +12.98 *\n",
      "Epoch: 3300; Score:  13.0; Epsilon: 0.0805; Mean (100): +13.46 *\n",
      "Epoch: 3400; Score:  17.0; Epsilon: 0.0740; Mean (100): +13.64 *\n",
      "Epoch: 3500; Score:  16.0; Epsilon: 0.0681; Mean (100): +12.49 *\n",
      "Epoch: 3600; Score:   8.0; Epsilon: 0.0627; Mean (100): +13.29 *\n",
      "Epoch: 3700; Score:  17.0; Epsilon: 0.0578; Mean (100): +13.82 *\n",
      "Epoch: 3800; Score:  16.0; Epsilon: 0.0534; Mean (100): +14.83 *\n",
      "Epoch: 3900; Score:  18.0; Epsilon: 0.0493; Mean (100): +15.79 *\n",
      "Epoch: 4000; Score:  14.0; Epsilon: 0.0456; Mean (100): +13.94 *\n",
      "Epoch: 4100; Score:  20.0; Epsilon: 0.0423; Mean (100): +12.88 *\n",
      "Epoch: 4200; Score:   9.0; Epsilon: 0.0393; Mean (100): +14.67 *\n",
      "Epoch: 4300; Score:  11.0; Epsilon: 0.0365; Mean (100): +14.82 *\n",
      "Epoch: 4400; Score:  18.0; Epsilon: 0.0340; Mean (100): +14.98 *\n",
      "Epoch: 4500; Score:  15.0; Epsilon: 0.0318; Mean (100): +14.98 *\n",
      "Epoch: 4600; Score:  16.0; Epsilon: 0.0297; Mean (100): +13.63 *\n",
      "Epoch: 4700; Score:  18.0; Epsilon: 0.0279; Mean (100): +14.49 *\n",
      "Epoch: 4800; Score:  14.0; Epsilon: 0.0262; Mean (100): +13.28 *\n",
      "Epoch: 4900; Score:  15.0; Epsilon: 0.0246; Mean (100): +15.24 *\n",
      "Epoch: 5000; Score:  21.0; Epsilon: 0.0233; Mean (100): +15.32 *\n",
      "Epoch: 5100; Score:  16.0; Epsilon: 0.0220; Mean (100): +14.69 *\n",
      "Epoch: 5200; Score:  13.0; Epsilon: 0.0209; Mean (100): +14.84 *\n",
      "Epoch: 5300; Score:  17.0; Epsilon: 0.0198; Mean (100): +13.40 *\n",
      "Epoch: 5400; Score:   3.0; Epsilon: 0.0189; Mean (100): +13.69 *\n",
      "Epoch: 5500; Score:   9.0; Epsilon: 0.0181; Mean (100): +14.77 *\n",
      "Epoch: 5600; Score:  18.0; Epsilon: 0.0173; Mean (100): +14.91 *\n",
      "Epoch: 5700; Score:  19.0; Epsilon: 0.0166; Mean (100): +15.44 *\n",
      "Epoch: 5800; Score:  17.0; Epsilon: 0.0160; Mean (100): +15.50 *\n",
      "Epoch: 5900; Score:  16.0; Epsilon: 0.0154; Mean (100): +15.42 *\n",
      "Epoch: 6000; Score:  12.0; Epsilon: 0.0149; Mean (100): +14.26 *\n",
      "Epoch: 6100; Score:  14.0; Epsilon: 0.0144; Mean (100): +14.50 *\n",
      "Epoch: 6200; Score:  16.0; Epsilon: 0.0140; Mean (100): +13.38 *\n",
      "Epoch: 6300; Score:  16.0; Epsilon: 0.0136; Mean (100): +14.72 *\n",
      "Epoch: 6400; Score:  16.0; Epsilon: 0.0133; Mean (100): +14.80 *\n",
      "Epoch: 6500; Score:  23.0; Epsilon: 0.0130; Mean (100): +13.57 *\n",
      "Epoch: 6600; Score:  16.0; Epsilon: 0.0127; Mean (100): +14.41 *\n",
      "Epoch: 6700; Score:  18.0; Epsilon: 0.0124; Mean (100): +15.75 *\n",
      "Epoch: 6800; Score:  18.0; Epsilon: 0.0122; Mean (100): +14.33 *\n",
      "Epoch: 6900; Score:  16.0; Epsilon: 0.0120; Mean (100): +15.34 *\n",
      "Epoch: 7000; Score:  16.0; Epsilon: 0.0118; Mean (100): +14.41 *\n",
      "Epoch: 7100; Score:   4.0; Epsilon: 0.0116; Mean (100): +14.69 *\n",
      "Epoch: 7200; Score:   8.0; Epsilon: 0.0115; Mean (100): +13.60 *\n",
      "Epoch: 7300; Score:  20.0; Epsilon: 0.0113; Mean (100): +14.41 *\n",
      "Epoch: 7400; Score:  22.0; Epsilon: 0.0112; Mean (100): +15.01 *\n",
      "Epoch: 7500; Score:  15.0; Epsilon: 0.0111; Mean (100): +15.62 *\n",
      "Epoch: 7600; Score:  23.0; Epsilon: 0.0110; Mean (100): +15.82 *\n",
      "Epoch: 7700; Score:  14.0; Epsilon: 0.0109; Mean (100): +16.50 *\n",
      "Epoch: 7800; Score:  12.0; Epsilon: 0.0108; Mean (100): +14.08 *\n",
      "Epoch: 7900; Score:  21.0; Epsilon: 0.0107; Mean (100): +14.10 *\n",
      "Epoch: 8000; Score:  16.0; Epsilon: 0.0107; Mean (100): +14.54 *\n",
      "Epoch: 8100; Score:  15.0; Epsilon: 0.0106; Mean (100): +13.88 *\n",
      "Epoch: 8200; Score:  13.0; Epsilon: 0.0105; Mean (100): +15.59 *\n",
      "Epoch: 8300; Score:  16.0; Epsilon: 0.0105; Mean (100): +14.31 *\n",
      "Epoch: 8400; Score:   4.0; Epsilon: 0.0104; Mean (100): +14.55 *\n",
      "Epoch: 8500; Score:  19.0; Epsilon: 0.0104; Mean (100): +14.19 *\n",
      "Epoch: 8600; Score:  18.0; Epsilon: 0.0104; Mean (100): +15.12 *\n",
      "Epoch: 8700; Score:  11.0; Epsilon: 0.0103; Mean (100): +14.18 *\n",
      "Epoch: 8800; Score:  19.0; Epsilon: 0.0103; Mean (100): +14.39 *\n",
      "Epoch: 8900; Score:   6.0; Epsilon: 0.0103; Mean (100): +13.21 *\n",
      "Epoch: 9000; Score:  12.0; Epsilon: 0.0102; Mean (100): +13.52 *\n",
      "Epoch: 9100; Score:   6.0; Epsilon: 0.0102; Mean (100): +15.17 *\n",
      "Epoch: 9200; Score:   6.0; Epsilon: 0.0102; Mean (100): +14.70 *\n",
      "Epoch: 9300; Score:  20.0; Epsilon: 0.0102; Mean (100): +14.57 *\n",
      "Epoch: 9400; Score:  19.0; Epsilon: 0.0102; Mean (100): +14.59 *\n",
      "Epoch: 9500; Score:  15.0; Epsilon: 0.0101; Mean (100): +14.81 *\n",
      "Epoch: 9600; Score:  14.0; Epsilon: 0.0101; Mean (100): +15.32 *\n",
      "Epoch: 9700; Score:   9.0; Epsilon: 0.0101; Mean (100): +14.70 *\n",
      "Epoch: 9800; Score:  11.0; Epsilon: 0.0101; Mean (100): +14.93 *\n",
      "Epoch: 9900; Score:  14.0; Epsilon: 0.0101; Mean (100): +15.27 *\n",
      "Epoch:10000; Score:   9.0; Epsilon: 0.0101; Mean (100): +14.32 *\n",
      "Epoch:10100; Score:  12.0; Epsilon: 0.0101; Mean (100): +15.69 *\n",
      "Epoch:10200; Score:  11.0; Epsilon: 0.0101; Mean (100): +15.52 *\n",
      "Epoch:10300; Score:  11.0; Epsilon: 0.0101; Mean (100): +14.01 *\n",
      "Epoch:10400; Score:  19.0; Epsilon: 0.0101; Mean (100): +14.11 *\n",
      "Epoch:10500; Score:  12.0; Epsilon: 0.0101; Mean (100): +14.04 *\n",
      "Epoch:10600; Score:  15.0; Epsilon: 0.0100; Mean (100): +14.55 *\n",
      "Epoch:10700; Score:  21.0; Epsilon: 0.0100; Mean (100): +15.18 *\n",
      "Epoch:10800; Score:  18.0; Epsilon: 0.0100; Mean (100): +14.61 *\n",
      "Epoch:10900; Score:  18.0; Epsilon: 0.0100; Mean (100): +14.24 *\n",
      "Epoch:11000; Score:   9.0; Epsilon: 0.0100; Mean (100): +14.47 *\n",
      "Epoch:11100; Score:  16.0; Epsilon: 0.0100; Mean (100): +15.02 *\n",
      "Epoch:11200; Score:  14.0; Epsilon: 0.0100; Mean (100): +14.48 *\n",
      "Epoch:11300; Score:  15.0; Epsilon: 0.0100; Mean (100): +13.81 *\n",
      "Epoch:11400; Score:  14.0; Epsilon: 0.0100; Mean (100): +14.41 *\n",
      "Epoch:11500; Score:  16.0; Epsilon: 0.0100; Mean (100): +14.12 *\n",
      "Epoch:11600; Score:  19.0; Epsilon: 0.0100; Mean (100): +14.27 *\n",
      "Epoch:11700; Score:  16.0; Epsilon: 0.0100; Mean (100): +15.67 *\n",
      "Epoch:11800; Score:  16.0; Epsilon: 0.0100; Mean (100): +14.97 *\n",
      "Epoch:11900; Score:  13.0; Epsilon: 0.0100; Mean (100): +15.30 *\n",
      "Epoch:12000; Score:  19.0; Epsilon: 0.0100; Mean (100): +13.96 *\n",
      "Epoch:12100; Score:  13.0; Epsilon: 0.0100; Mean (100): +14.42 *\n",
      "Epoch:12200; Score:  17.0; Epsilon: 0.0100; Mean (100): +15.29 *\n",
      "Epoch:12300; Score:  11.0; Epsilon: 0.0100; Mean (100): +13.50 *\n",
      "Epoch:12400; Score:  18.0; Epsilon: 0.0100; Mean (100): +15.48 *\n",
      "Epoch:12500; Score:  13.0; Epsilon: 0.0100; Mean (100): +14.86 *\n",
      "Epoch:12600; Score:  12.0; Epsilon: 0.0100; Mean (100): +14.65 *\n",
      "Epoch:12700; Score:  14.0; Epsilon: 0.0100; Mean (100): +15.15 *\n",
      "Epoch:12800; Score:  17.0; Epsilon: 0.0100; Mean (100): +14.63 *\n",
      "Epoch:12900; Score:  20.0; Epsilon: 0.0100; Mean (100): +15.04 *\n",
      "Epoch:13000; Score:  14.0; Epsilon: 0.0100; Mean (100): +14.84 *\n",
      "Epoch:13100; Score:  12.0; Epsilon: 0.0100; Mean (100): +14.35 *\n",
      "Epoch:13200; Score:  10.0; Epsilon: 0.0100; Mean (100): +13.97 *\n",
      "Epoch:13300; Score:  25.0; Epsilon: 0.0100; Mean (100): +13.88 *\n",
      "Epoch:13400; Score:  16.0; Epsilon: 0.0100; Mean (100): +14.16 *\n",
      "Epoch:13500; Score:  18.0; Epsilon: 0.0100; Mean (100): +14.77 *\n",
      "Epoch:13600; Score:  23.0; Epsilon: 0.0100; Mean (100): +16.25 *\n",
      "Epoch:13700; Score:  10.0; Epsilon: 0.0100; Mean (100): +15.32 *\n",
      "Epoch:13800; Score:  15.0; Epsilon: 0.0100; Mean (100): +15.84 *\n",
      "Epoch:13900; Score:  10.0; Epsilon: 0.0100; Mean (100): +14.98 *\n",
      "Epoch:14000; Score:  18.0; Epsilon: 0.0100; Mean (100): +15.71 *\n",
      "Epoch:14100; Score:  14.0; Epsilon: 0.0100; Mean (100): +14.57 *\n",
      "Epoch:14200; Score:  17.0; Epsilon: 0.0100; Mean (100): +14.64 *\n",
      "Epoch:14300; Score:   7.0; Epsilon: 0.0100; Mean (100): +15.28 *\n",
      "Epoch:14400; Score:  22.0; Epsilon: 0.0100; Mean (100): +14.81 *\n",
      "Epoch:14500; Score:  23.0; Epsilon: 0.0100; Mean (100): +14.31 *\n",
      "Epoch:14600; Score:  16.0; Epsilon: 0.0100; Mean (100): +15.13 *\n",
      "Epoch:14700; Score:  14.0; Epsilon: 0.0100; Mean (100): +15.00 *\n",
      "Epoch:14800; Score:  10.0; Epsilon: 0.0100; Mean (100): +14.19 *\n",
      "Epoch:14900; Score:  24.0; Epsilon: 0.0100; Mean (100): +14.77 *\n",
      "Epoch:15000; Score:  15.0; Epsilon: 0.0100; Mean (100): +13.86 *\n",
      "Epoch:15100; Score:  16.0; Epsilon: 0.0100; Mean (100): +15.32 *\n",
      "Epoch:15200; Score:  16.0; Epsilon: 0.0100; Mean (100): +14.20 *\n",
      "Epoch:15300; Score:   7.0; Epsilon: 0.0100; Mean (100): +14.48 *\n",
      "Epoch:15400; Score:  19.0; Epsilon: 0.0100; Mean (100): +14.71 *\n",
      "Epoch:15500; Score:  11.0; Epsilon: 0.0100; Mean (100): +15.41 *\n",
      "Epoch:15600; Score:  15.0; Epsilon: 0.0100; Mean (100): +15.67 *\n",
      "Epoch:15700; Score:  13.0; Epsilon: 0.0100; Mean (100): +15.23 *\n",
      "Epoch:15800; Score:  14.0; Epsilon: 0.0100; Mean (100): +13.72 *\n",
      "Epoch:15900; Score:  20.0; Epsilon: 0.0100; Mean (100): +14.64 *\n",
      "Epoch:16000; Score:  19.0; Epsilon: 0.0100; Mean (100): +14.30 *\n",
      "Epoch:16100; Score:  10.0; Epsilon: 0.0100; Mean (100): +13.37 *\n",
      "Epoch:16200; Score:  12.0; Epsilon: 0.0100; Mean (100): +13.50 *\n",
      "Epoch:16300; Score:  16.0; Epsilon: 0.0100; Mean (100): +13.40 *\n",
      "Epoch:16400; Score:  10.0; Epsilon: 0.0100; Mean (100): +13.62 *\n",
      "Epoch:16500; Score:  15.0; Epsilon: 0.0100; Mean (100): +13.72 *\n",
      "Epoch:16600; Score:  13.0; Epsilon: 0.0100; Mean (100): +13.87 *\n",
      "Epoch:16700; Score:  16.0; Epsilon: 0.0100; Mean (100): +14.39 *\n",
      "Epoch:16800; Score:  10.0; Epsilon: 0.0100; Mean (100): +15.00 *\n",
      "Epoch:16900; Score:   6.0; Epsilon: 0.0100; Mean (100): +14.38 *\n",
      "Epoch:17000; Score:  10.0; Epsilon: 0.0100; Mean (100): +14.84 *\n",
      "Epoch:17100; Score:   9.0; Epsilon: 0.0100; Mean (100): +14.62 *\n",
      "Epoch:17200; Score:  16.0; Epsilon: 0.0100; Mean (100): +14.47 *\n",
      "Epoch:17300; Score:  18.0; Epsilon: 0.0100; Mean (100): +13.78 *\n",
      "Epoch:17400; Score:  19.0; Epsilon: 0.0100; Mean (100): +14.22 *\n",
      "Epoch:17500; Score:  11.0; Epsilon: 0.0100; Mean (100): +14.24 *\n",
      "Epoch:17600; Score:  15.0; Epsilon: 0.0100; Mean (100): +14.24 *\n",
      "Epoch:17700; Score:  18.0; Epsilon: 0.0100; Mean (100): +15.53 *\n",
      "Epoch:17800; Score:  16.0; Epsilon: 0.0100; Mean (100): +15.53 *\n",
      "Epoch:17900; Score:  16.0; Epsilon: 0.0100; Mean (100): +13.93 *\n",
      "Epoch:18000; Score:  14.0; Epsilon: 0.0100; Mean (100): +14.37 *\n",
      "Epoch:18100; Score:  13.0; Epsilon: 0.0100; Mean (100): +14.39 *\n",
      "Epoch:18200; Score:  18.0; Epsilon: 0.0100; Mean (100): +15.38 *\n",
      "Epoch:18300; Score:  12.0; Epsilon: 0.0100; Mean (100): +14.91 *\n",
      "Epoch:18400; Score:  17.0; Epsilon: 0.0100; Mean (100): +14.50 *\n",
      "Epoch:18500; Score:  22.0; Epsilon: 0.0100; Mean (100): +15.45 *\n",
      "Epoch:18600; Score:  17.0; Epsilon: 0.0100; Mean (100): +14.36 *\n",
      "Epoch:18700; Score:  20.0; Epsilon: 0.0100; Mean (100): +14.28 *\n",
      "Epoch:18800; Score:  12.0; Epsilon: 0.0100; Mean (100): +14.10 *\n",
      "Epoch:18900; Score:  23.0; Epsilon: 0.0100; Mean (100): +13.42 *\n",
      "Epoch:19000; Score:   5.0; Epsilon: 0.0100; Mean (100): +13.47 *\n",
      "Epoch:19100; Score:  15.0; Epsilon: 0.0100; Mean (100): +14.11 *\n",
      "Epoch:19200; Score:  17.0; Epsilon: 0.0100; Mean (100): +15.14 *\n",
      "Epoch:19300; Score:  16.0; Epsilon: 0.0100; Mean (100): +15.34 *\n",
      "Epoch:19400; Score:  10.0; Epsilon: 0.0100; Mean (100): +15.44 *\n",
      "Epoch:19500; Score:  12.0; Epsilon: 0.0100; Mean (100): +13.96 *\n",
      "Epoch:19600; Score:  11.0; Epsilon: 0.0100; Mean (100): +14.39 *\n",
      "Epoch:19700; Score:  14.0; Epsilon: 0.0100; Mean (100): +14.53 *\n",
      "Epoch:19800; Score:  18.0; Epsilon: 0.0100; Mean (100): +14.30 *\n",
      "Epoch:19900; Score:  19.0; Epsilon: 0.0100; Mean (100): +13.96 *\n",
      "Epoch:20000; Score:  16.0; Epsilon: 0.0100; Mean (100): +14.85 *\n"
     ]
    }
   ],
   "source": [
    "scores = []  # List with all scores per episode\n",
    "scores_100_mean = 0 # Mean score over the last 100 episodes\n",
    "\n",
    "NUM_EPISODES = 20000\n",
    "CRIT_SOLVED = 999 #How many Bananas must be collected to succeed?\n",
    "\n",
    "epsilon = get_epsilon_i(NUM_EPISODES, evaluate = False)\n",
    "\n",
    "for epc in range(NUM_EPISODES):\n",
    "\n",
    "    env_info = env.reset(train_mode=True)[brain_name]  # reset the environment\n",
    "    state = env_info.vector_observations[0]            # get the current state\n",
    "    score = 0     # initialize the score\n",
    "    \n",
    "\n",
    "    start_time = time.time()\n",
    "\n",
    "    while True:\n",
    "        action = agent.act(state, epsilon[epc])        # select an action\n",
    "        env_info = env.step(action)[brain_name]        # send the action to the environment\n",
    "        next_state = env_info.vector_observations[0]   # get the next state\n",
    "        reward = env_info.rewards[0]                   # get the reward\n",
    "        done = env_info.local_done[0]                  # see if episode has finished\n",
    "        agent.step(state, action, reward, next_state, done)\n",
    "        score += reward                                # update the score\n",
    "        state = next_state                             # roll over the state to next time step\n",
    "        if done:                                       # exit loop if episode finished\n",
    "            break\n",
    "\n",
    "    scores.append(score)\n",
    "    if len(scores) >= 100:\n",
    "        scores_100_mean = np.mean( scores[-100:] )\n",
    "        \n",
    "    \n",
    "    stop_time = time.time()\n",
    "\n",
    "    print( '\\rEpoch:{:>5}; Score: {:>5}; Epsilon: {:2.4f}; Mean (100): {:+3.2f}'.format( epc+1, score, epsilon[epc], scores_100_mean ), \\\n",
    "          end = ' ')\n",
    "    if ( epc+1 ) % 100 == 0:       \n",
    "        print('*')\n",
    "        \n",
    "    if (scores_100_mean > CRIT_SOLVED):\n",
    "        print('#')\n",
    "        # print( 'Udacity criterion reached (Mean of recent 100 runs > 13), enviroment is considered as solved!')\n",
    "        print( 'My criterion reached (Mean of recent 100 runs > '+ str(CRIT_SOLVED) +'), enviroment is considered as solved!')\n",
    "        break\n"
   ]
  },
  {
   "cell_type": "code",
   "execution_count": 8,
   "metadata": {},
   "outputs": [
    {
     "data": {
      "image/png": "[encoded data removed]",
      "text/plain": [
       "<Figure size 432x288 with 1 Axes>"
      ]
     },
     "metadata": {
      "needs_background": "light"
     },
     "output_type": "display_data"
    }
   ],
   "source": [
    "import matplotlib.pyplot as plt\n",
    "\n",
    "plt.plot(scores)\n",
    "plt.ylabel('Training scores')\n",
    "plt.show()"
   ]
  },
  {
   "cell_type": "code",
   "execution_count": 9,
   "metadata": {},
   "outputs": [
    {
     "name": "stdout",
     "output_type": "stream",
     "text": [
      "Timestamp is: 20200707090905\n"
     ]
    }
   ],
   "source": [
    "# Thx2: https://pytorch.org/tutorials/beginner/saving_loading_models.html\n",
    "\n",
    "import torch\n",
    "\n",
    "timestamp = get_time_string()\n",
    "torch.save(agent.qnetwork_local.state_dict(), './output/' + timestamp + '_qnetwork_local_statedict.pth')\n",
    "print('Timestamp is: ' + timestamp)"
   ]
  },
  {
   "cell_type": "code",
   "execution_count": 10,
   "metadata": {},
   "outputs": [],
   "source": [
    "env.close()"
   ]
  },
  {
   "cell_type": "markdown",
   "metadata": {},
   "source": [
    "# Watch the trained agent in action!"
   ]
  },
  {
   "cell_type": "code",
   "execution_count": null,
   "metadata": {},
   "outputs": [],
   "source": [
    "from dql_agent import Agent\n",
    "\n",
    "agent = Agent(state_size, action_size)"
   ]
  },
  {
   "cell_type": "code",
   "execution_count": null,
   "metadata": {},
   "outputs": [],
   "source": [
    "import torch\n",
    "\n",
    "# FA The network from my GPU training run did not load\n",
    "# Thx 2: https://stackoverflow.com/a/55759312\n",
    "\n",
    "if torch.cuda.is_available():\n",
    "    map_location=lambda storage, loc: storage.cuda()\n",
    "    print('CUDA')\n",
    "else:\n",
    "    map_location='cpu'\n",
    "    print('CPU')\n",
    "    \n",
    "\n",
    "\n",
    "# load the weights from file\n",
    "agent.qnetwork_local.load_state_dict(torch.load('./output/20200706160011_qnetwork_local_statedict.pth', map_location=map_location))\n",
    "agent.qnetwork_local.eval() #Set Network in evaluation mode - important!\n",
    "\n",
    "\n"
   ]
  },
  {
   "cell_type": "code",
   "execution_count": null,
   "metadata": {},
   "outputs": [],
   "source": [
    "score_sum = 0\n",
    "\n",
    "for epc in range(5):\n",
    "\n",
    "    env_info = env.reset(train_mode=False)[brain_name]  # reset the environment\n",
    "    state = env_info.vector_observations[0]            # get the current state\n",
    "    score = 0     # initialize the score\n",
    "\n",
    "    start_time = time.time()\n",
    "\n",
    "    while True:\n",
    "        action = agent.act(state)        # select an action\n",
    "        env_info = env.step(action)[brain_name]        # send the action to the environment\n",
    "        next_state = env_info.vector_observations[0]   # get the next state\n",
    "        reward = env_info.rewards[0]                   # get the reward\n",
    "        done = env_info.local_done[0]                  # see if episode has finished\n",
    "        # agent.step(state, action, reward, next_state, done) # not step needed in evaluation\n",
    "        score += reward                                # update the score\n",
    "        state = next_state                             # roll over the state to next time step\n",
    "        if done:                                       # exit loop if episode finished\n",
    "            break\n",
    "\n",
    "    stop_time = time.time()\n",
    "    score_sum += score\n",
    "    print( \"Epoch:{:>5}; Score: {:>5}; Execution time: {:.4f}\".format( epc+1, score, stop_time - start_time ) )\n",
    "\n",
    "print( 'Achieved mean over {} test runs: {}'.format( ( epc+1 ), score_sum / (epc+1) ) )\n"
   ]
  },
  {
   "cell_type": "code",
   "execution_count": null,
   "metadata": {},
   "outputs": [],
   "source": [
    "env.close()"
   ]
  },
  {
   "cell_type": "code",
   "execution_count": null,
   "metadata": {},
   "outputs": [],
   "source": []
  }
 ],
 "metadata": {
  "kernelspec": {
   "display_name": "Python 3",
   "language": "python",
   "name": "python3"
  },
  "language_info": {
   "codemirror_mode": {
    "name": "ipython",
    "version": 3
   },
   "file_extension": ".py",
   "mimetype": "text/x-python",
   "name": "python",
   "nbconvert_exporter": "python",
   "pygments_lexer": "ipython3",
   "version": "3.6.10"
  }
 },
 "nbformat": 4,
 "nbformat_minor": 4
}
